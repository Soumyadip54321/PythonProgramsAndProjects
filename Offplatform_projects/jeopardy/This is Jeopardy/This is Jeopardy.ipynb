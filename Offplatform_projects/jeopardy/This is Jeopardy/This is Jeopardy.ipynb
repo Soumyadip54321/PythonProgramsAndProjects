{
 "cells": [
  {
   "cell_type": "markdown",
   "metadata": {},
   "source": [
    "# This is Jeopardy!"
   ]
  },
  {
   "cell_type": "markdown",
   "metadata": {},
   "source": [
    "#### Overview"
   ]
  },
  {
   "cell_type": "markdown",
   "metadata": {},
   "source": [
    "This project is slightly different than others you have encountered thus far. Instead of a step-by-step tutorial, this project contains a series of open-ended requirements which describe the project you'll be building. There are many possible ways to correctly fulfill all of these requirements, and you should expect to use the internet, Codecademy, and/or other resources when you encounter a problem that you cannot easily solve."
   ]
  },
  {
   "cell_type": "markdown",
   "metadata": {},
   "source": [
    "#### Project Goals"
   ]
  },
  {
   "cell_type": "markdown",
   "metadata": {},
   "source": [
    "You will work to write several functions that investigate a dataset of _Jeopardy!_ questions and answers. Filter the dataset for topics that you're interested in, compute the average difficulty of those questions, and train to become the next Jeopardy champion!"
   ]
  },
  {
   "cell_type": "markdown",
   "metadata": {},
   "source": [
    "## Prerequisites"
   ]
  },
  {
   "cell_type": "markdown",
   "metadata": {},
   "source": [
    "In order to complete this project, you should have completed the Pandas lessons in the <a href=\"https://www.codecademy.com/learn/paths/analyze-data-with-python\">Analyze Data with Python Skill Path</a>. You can also find those lessons in the <a href=\"https://www.codecademy.com/learn/data-processing-pandas\">Data Analysis with Pandas course</a> or the <a href=\"https://www.codecademy.com/learn/paths/data-science/\">Data Scientist Career Path</a>.\n",
    "\n",
    "Finally, the <a href=\"https://www.codecademy.com/learn/practical-data-cleaning\">Practical Data Cleaning</a> course may also be helpful."
   ]
  },
  {
   "cell_type": "markdown",
   "metadata": {},
   "source": [
    "## Project Requirements"
   ]
  },
  {
   "cell_type": "markdown",
   "metadata": {},
   "source": [
    "1. We've provided a csv file containing data about the game show _Jeopardy!_ in a file named `jeopardy.csv`. Load the data into a DataFrame and investigate its contents. Try to print out specific columns.\n",
    "\n",
    "   Note that in order to make this project as \"real-world\" as possible, we haven't modified the data at all - we're giving it to you exactly how we found it. As a result, this data isn't as \"clean\" as the datasets you normally find on Codecademy. More specifically, there's something odd about the column names. After you figure out the problem with the column names, you may want to rename them to make your life easier for the rest of the project.\n",
    "   \n",
    "   In order to display the full contents of a column, we've added this line of code for you:\n",
    "   \n",
    "   ```py\n",
    "   pd.set_option('display.max_colwidth', None)\n",
    "   ```"
   ]
  },
  {
   "cell_type": "code",
   "execution_count": 134,
   "metadata": {},
   "outputs": [
    {
     "name": "stdout",
     "output_type": "stream",
     "text": [
      "Requirement already satisfied: regex in /Library/Frameworks/Python.framework/Versions/3.10/lib/python3.10/site-packages (2022.10.31)\n",
      "Collecting word2number\n",
      "  Downloading word2number-1.1.zip (9.7 kB)\n",
      "  Preparing metadata (setup.py) ... \u001b[?25ldone\n",
      "\u001b[?25hBuilding wheels for collected packages: word2number\n",
      "  Building wheel for word2number (setup.py) ... \u001b[?25ldone\n",
      "\u001b[?25h  Created wheel for word2number: filename=word2number-1.1-py3-none-any.whl size=5566 sha256=4049eb517f07363ca28f5c591e5d1bdef52c786271d7decec848e08ea0c7649b\n",
      "  Stored in directory: /Users/soumyadipsikdar/Library/Caches/pip/wheels/84/ff/26/d3cfbd971e96c5aa3737ecfced81628830d7359b55fbb8ca3b\n",
      "Successfully built word2number\n",
      "Installing collected packages: word2number\n",
      "Successfully installed word2number-1.1\n"
     ]
    }
   ],
   "source": [
    "!pip install regex\n",
    "!pip install word2number"
   ]
  },
  {
   "cell_type": "code",
   "execution_count": 201,
   "metadata": {},
   "outputs": [
    {
     "name": "stdout",
     "output_type": "stream",
     "text": [
      "   Show Number   air_date      stage                             type prize  \\\n",
      "0         4680 2004-12-31  Jeopardy!                          HISTORY  $200   \n",
      "1         4680 2004-12-31  Jeopardy!  ESPN's TOP 10 ALL-TIME ATHLETES  $200   \n",
      "2         4680 2004-12-31  Jeopardy!      EVERYBODY TALKS ABOUT IT...  $200   \n",
      "3         4680 2004-12-31  Jeopardy!                 THE COMPANY LINE  $200   \n",
      "4         4680 2004-12-31  Jeopardy!              EPITAPHS & TRIBUTES  $200   \n",
      "\n",
      "                                                                                                          ques  \\\n",
      "0             For the last 8 years of his life, Galileo was under house arrest for espousing this man's theory   \n",
      "1  No. 2: 1912 Olympian; football star at Carlisle Indian School; 6 MLB seasons with the Reds, Giants & Braves   \n",
      "2                     The city of Yuma in this state has a record average of 4,055 hours of sunshine each year   \n",
      "3                         In 1963, live on \"The Art Linkletter Show\", this company served its billionth burger   \n",
      "4     Signer of the Dec. of Indep., framer of the Constitution of Mass., second President of the United States   \n",
      "\n",
      "          ans  \n",
      "0  Copernicus  \n",
      "1  Jim Thorpe  \n",
      "2     Arizona  \n",
      "3  McDonald's  \n",
      "4  John Adams  \n",
      "<class 'pandas.core.frame.DataFrame'>\n",
      "RangeIndex: 216930 entries, 0 to 216929\n",
      "Data columns (total 7 columns):\n",
      " #   Column       Non-Null Count   Dtype         \n",
      "---  ------       --------------   -----         \n",
      " 0   Show Number  216930 non-null  int64         \n",
      " 1   air_date     216930 non-null  datetime64[ns]\n",
      " 2   stage        216930 non-null  object        \n",
      " 3   type         216930 non-null  object        \n",
      " 4   prize        216930 non-null  object        \n",
      " 5   ques         216930 non-null  object        \n",
      " 6   ans          216928 non-null  object        \n",
      "dtypes: datetime64[ns](1), int64(1), object(5)\n",
      "memory usage: 11.6+ MB\n",
      "None\n"
     ]
    }
   ],
   "source": [
    "import numpy as np\n",
    "import pandas as pd\n",
    "import regex as re\n",
    "import word2number as w2n\n",
    "pd.set_option('display.max_colwidth', None)\n",
    "jeopardy_df = pd.read_csv('jeopardy.csv', parse_dates=[1])\n",
    "jeopardy_df.rename(columns={\" Value\":\"prize\", \" Question\":\"ques\",\" Air Date\":\"air_date\",\" Round\":\"stage\",\" Category\":\"type\",\" Answer\":\"ans\"},inplace=True)\n",
    "print(jeopardy_df.head())\n",
    "print(jeopardy_df.info())"
   ]
  },
  {
   "cell_type": "code",
   "execution_count": 202,
   "metadata": {},
   "outputs": [
    {
     "name": "stdout",
     "output_type": "stream",
     "text": [
      "   Show Number   air_date      stage                             type prize  \\\n",
      "0         4680 2004-12-31  Jeopardy!                          HISTORY  $200   \n",
      "1         4680 2004-12-31  Jeopardy!  ESPN's TOP 10 ALL-TIME ATHLETES  $200   \n",
      "2         4680 2004-12-31  Jeopardy!      EVERYBODY TALKS ABOUT IT...  $200   \n",
      "3         4680 2004-12-31  Jeopardy!                 THE COMPANY LINE  $200   \n",
      "4         4680 2004-12-31  Jeopardy!              EPITAPHS & TRIBUTES  $200   \n",
      "\n",
      "                                                                                                          ques  \\\n",
      "0             For the last 8 years of his life, Galileo was under house arrest for espousing this man's theory   \n",
      "1  No. 2: 1912 Olympian; football star at Carlisle Indian School; 6 MLB seasons with the Reds, Giants & Braves   \n",
      "2                     The city of Yuma in this state has a record average of 4,055 hours of sunshine each year   \n",
      "3                         In 1963, live on \"The Art Linkletter Show\", this company served its billionth burger   \n",
      "4     Signer of the Dec. of Indep., framer of the Constitution of Mass., second President of the United States   \n",
      "\n",
      "          ans words present?  \n",
      "0  Copernicus             no  \n",
      "1  Jim Thorpe             no  \n",
      "2     Arizona             no  \n",
      "3  McDonald's             no  \n",
      "4  John Adams             no  \n",
      "<class 'pandas.core.frame.DataFrame'>\n",
      "RangeIndex: 216930 entries, 0 to 216929\n",
      "Data columns (total 8 columns):\n",
      " #   Column          Non-Null Count   Dtype         \n",
      "---  ------          --------------   -----         \n",
      " 0   Show Number     216930 non-null  int64         \n",
      " 1   air_date        216930 non-null  datetime64[ns]\n",
      " 2   stage           216930 non-null  object        \n",
      " 3   type            216930 non-null  object        \n",
      " 4   prize           216930 non-null  object        \n",
      " 5   ques            216930 non-null  object        \n",
      " 6   ans             216928 non-null  object        \n",
      " 7   words present?  216930 non-null  object        \n",
      "dtypes: datetime64[ns](1), int64(1), object(6)\n",
      "memory usage: 13.2+ MB\n",
      "None\n"
     ]
    }
   ],
   "source": [
    "def check(keywords,a):\n",
    "    count=0\n",
    "    for item in keywords:\n",
    "        if item.istitle():\n",
    "            str=a.title()\n",
    "            if re.search(r' '+item+' ',str):\n",
    "                count+=1\n",
    "        elif item.isupper():\n",
    "            str=a.upper()\n",
    "            if re.search(r' '+item+' ',str):\n",
    "                count+=1\n",
    "        else:\n",
    "            str=a.lower()\n",
    "            if re.search(r' '+item+' ',str):\n",
    "                count+=1\n",
    "            \n",
    "    if count==2:\n",
    "        return True\n",
    "    else:\n",
    "        return False\n",
    "    \n",
    "ls=[\"king\",\"England\"]\n",
    "jeopardy_df[\"words present?\"] = jeopardy_df.apply(lambda row:'yes' if check(ls,row['ques']) else 'no',axis=1)\n",
    "print(jeopardy_df.head())\n",
    "print(jeopardy_df.info())"
   ]
  },
  {
   "cell_type": "markdown",
   "metadata": {},
   "source": [
    "2. Write a function that filters the dataset for questions that contains all of the words in a list of words. For example, when the list `[\"King\", \"England\"]` was passed to our function, the function returned a DataFrame of 49 rows. Every row had the strings `\"King\"` and `\"England\"` somewhere in its `\" Question\"`.\n",
    "\n",
    "   Test your function by printing out the column containing the question of each row of the dataset."
   ]
  },
  {
   "cell_type": "code",
   "execution_count": 203,
   "metadata": {},
   "outputs": [
    {
     "name": "stdout",
     "output_type": "stream",
     "text": [
      "   index  Show Number   air_date             stage                    type  \\\n",
      "0   6337         3517 1999-12-14  Double Jeopardy!                     Y1K   \n",
      "1   9191         3907 2001-09-04  Double Jeopardy!          WON THE BATTLE   \n",
      "2  13454         4726 2005-03-07         Jeopardy!   A NUMBER FROM 1 TO 10   \n",
      "3  18076         3227 1998-09-22  Double Jeopardy!           WORLD HISTORY   \n",
      "4  19168         3109 1998-02-19         Jeopardy!  HISTORIC WORLD LEADERS   \n",
      "\n",
      "   prize  \\\n",
      "0   $800   \n",
      "1   $800   \n",
      "2  $1000   \n",
      "3  $1000   \n",
      "4   $300   \n",
      "\n",
      "                                                                                                     ques  \\\n",
      "0  In retaliation for Viking raids, this \"Unready\" king of England attacks Norse areas of the Isle of Man   \n",
      "1                This king of England beat the odds to trounce the French in the 1415 Battle of Agincourt   \n",
      "2                                    It's the number that followed the last king of England named William   \n",
      "3         In 1199 this crusader king of England was mortally wounded while besieging the castle of Chalus   \n",
      "4                               He was the only king of England to have \"The Great\" tacked on to his name   \n",
      "\n",
      "                       ans words present?  \n",
      "0                 Ethelred            yes  \n",
      "1                  Henry V            yes  \n",
      "2                        4            yes  \n",
      "3  Richard the Lionhearted            yes  \n",
      "4                   Alfred            yes  \n",
      "0    In retaliation for Viking raids, this \"Unready\" king of England attacks Norse areas of the Isle of Man\n",
      "1                  This king of England beat the odds to trounce the French in the 1415 Battle of Agincourt\n",
      "2                                      It's the number that followed the last king of England named William\n",
      "3           In 1199 this crusader king of England was mortally wounded while besieging the castle of Chalus\n",
      "4                                 He was the only king of England to have \"The Great\" tacked on to his name\n",
      "Name: ques, dtype: object\n"
     ]
    }
   ],
   "source": [
    "df_questions_withwords = jeopardy_df[jeopardy_df['words present?']=='yes'].reset_index()\n",
    "print(df_questions_withwords.head())\n",
    "print(df_questions_withwords.ques[:5])"
   ]
  },
  {
   "cell_type": "markdown",
   "metadata": {},
   "source": [
    "3. Test your original function with a few different sets of words to try to find some ways your function breaks. Edit your function so it is more robust.\n",
    "\n",
    "   For example, think about capitalization. We probably want to find questions that contain the word `\"King\"` or `\"king\"`.\n",
    "   \n",
    "   You may also want to check to make sure you don't find rows that contain substrings of your given words. For example, our function found a question that didn't contain the word `\"king\"`, however it did contain the word `\"viking\"` &mdash; it found the `\"king\"` inside `\"viking\"`. Note that this also comes with some drawbacks &mdash; you would no longer find questions that contained words like `\"England's\"`."
   ]
  },
  {
   "cell_type": "code",
   "execution_count": 204,
   "metadata": {},
   "outputs": [
    {
     "name": "stdout",
     "output_type": "stream",
     "text": [
      "   Show Number   air_date      stage                             type prize  \\\n",
      "0         4680 2004-12-31  Jeopardy!                          HISTORY   200   \n",
      "1         4680 2004-12-31  Jeopardy!  ESPN's TOP 10 ALL-TIME ATHLETES   200   \n",
      "2         4680 2004-12-31  Jeopardy!      EVERYBODY TALKS ABOUT IT...   200   \n",
      "3         4680 2004-12-31  Jeopardy!                 THE COMPANY LINE   200   \n",
      "4         4680 2004-12-31  Jeopardy!              EPITAPHS & TRIBUTES   200   \n",
      "\n",
      "                                                                                                          ques  \\\n",
      "0             For the last 8 years of his life, Galileo was under house arrest for espousing this man's theory   \n",
      "1  No. 2: 1912 Olympian; football star at Carlisle Indian School; 6 MLB seasons with the Reds, Giants & Braves   \n",
      "2                     The city of Yuma in this state has a record average of 4,055 hours of sunshine each year   \n",
      "3                         In 1963, live on \"The Art Linkletter Show\", this company served its billionth burger   \n",
      "4     Signer of the Dec. of Indep., framer of the Constitution of Mass., second President of the United States   \n",
      "\n",
      "          ans words present?  \n",
      "0  Copernicus             no  \n",
      "1  Jim Thorpe             no  \n",
      "2     Arizona             no  \n",
      "3  McDonald's             no  \n",
      "4  John Adams             no  \n",
      "Show Number                                                                                                4680\n",
      "air_date                                                                                    2004-12-31 00:00:00\n",
      "stage                                                                                           Final Jeopardy!\n",
      "type                                                                                           THE SOLAR SYSTEM\n",
      "prize                                                                                                         0\n",
      "ques              Objects that pass closer to the sun than Mercury have been named for this mythological figure\n",
      "ans                                                                                                      Icarus\n",
      "words present?                                                                                               no\n",
      "Name: 55, dtype: object\n",
      "0          200\n",
      "1          200\n",
      "2          200\n",
      "3          200\n",
      "4          200\n",
      "          ... \n",
      "216925    2000\n",
      "216926    2000\n",
      "216927    2000\n",
      "216928    2000\n",
      "216929       0\n",
      "Name: prize, Length: 216930, dtype: object\n"
     ]
    }
   ],
   "source": [
    "def truncate(str):\n",
    "    if 'None' in str:\n",
    "        z=str.replace('None','0')\n",
    "        str=z\n",
    "    char = ['$',',']\n",
    "    word_to_num_list={\"one\":'1',\"two\":'2',\"three\":'3',\"four\":'4',\"five\":'5',\"six\":'6',\"seven\":'7',\"eight\":'8',\"nine\":'9',\"zero\":'0',\" \":''}\n",
    "    for item in char:\n",
    "        if item in str:\n",
    "            z=str.replace(item,'')\n",
    "            str=z\n",
    "    for word in word_to_num_list:\n",
    "        if word in str:\n",
    "            z=str.replace(word,word_to_num_list[word])\n",
    "            str=z\n",
    "    return str\n",
    "\n",
    "jeopardy_df['prize']=jeopardy_df['prize'].apply(lambda x:truncate(x))\n",
    "print(jeopardy_df.head())\n",
    "print(jeopardy_df.iloc[55])\n",
    "print(jeopardy_df.prize)"
   ]
  },
  {
   "cell_type": "code",
   "execution_count": 205,
   "metadata": {},
   "outputs": [
    {
     "name": "stdout",
     "output_type": "stream",
     "text": [
      "   Show Number   air_date      stage                             type  prize  \\\n",
      "0         4680 2004-12-31  Jeopardy!                          HISTORY    200   \n",
      "1         4680 2004-12-31  Jeopardy!  ESPN's TOP 10 ALL-TIME ATHLETES    200   \n",
      "2         4680 2004-12-31  Jeopardy!      EVERYBODY TALKS ABOUT IT...    200   \n",
      "3         4680 2004-12-31  Jeopardy!                 THE COMPANY LINE    200   \n",
      "4         4680 2004-12-31  Jeopardy!              EPITAPHS & TRIBUTES    200   \n",
      "\n",
      "                                                                                                          ques  \\\n",
      "0             For the last 8 years of his life, Galileo was under house arrest for espousing this man's theory   \n",
      "1  No. 2: 1912 Olympian; football star at Carlisle Indian School; 6 MLB seasons with the Reds, Giants & Braves   \n",
      "2                     The city of Yuma in this state has a record average of 4,055 hours of sunshine each year   \n",
      "3                         In 1963, live on \"The Art Linkletter Show\", this company served its billionth burger   \n",
      "4     Signer of the Dec. of Indep., framer of the Constitution of Mass., second President of the United States   \n",
      "\n",
      "          ans words present?  \n",
      "0  Copernicus             no  \n",
      "1  Jim Thorpe             no  \n",
      "2     Arizona             no  \n",
      "3  McDonald's             no  \n",
      "4  John Adams             no  \n",
      "<class 'pandas.core.frame.DataFrame'>\n",
      "RangeIndex: 216930 entries, 0 to 216929\n",
      "Data columns (total 8 columns):\n",
      " #   Column          Non-Null Count   Dtype         \n",
      "---  ------          --------------   -----         \n",
      " 0   Show Number     216930 non-null  int64         \n",
      " 1   air_date        216930 non-null  datetime64[ns]\n",
      " 2   stage           216930 non-null  object        \n",
      " 3   type            216930 non-null  object        \n",
      " 4   prize           216930 non-null  int64         \n",
      " 5   ques            216930 non-null  object        \n",
      " 6   ans             216928 non-null  object        \n",
      " 7   words present?  216930 non-null  object        \n",
      "dtypes: datetime64[ns](1), int64(2), object(5)\n",
      "memory usage: 13.2+ MB\n",
      "None\n"
     ]
    }
   ],
   "source": [
    "#here i change the string column \"prize\" to float\n",
    "jeopardy_df['prize']=pd.to_numeric(jeopardy_df['prize'])\n",
    "print(jeopardy_df.head())\n",
    "print(jeopardy_df.info())"
   ]
  },
  {
   "cell_type": "markdown",
   "metadata": {},
   "source": [
    "4. We may want to eventually compute aggregate statistics, like `.mean()` on the `\" Value\"` column. But right now, the values in that column are strings. Convert the`\" Value\"` column to floats. If you'd like to, you can create a new column with float values.\n",
    "\n",
    "   Now that you can filter the dataset of question, use your new column that contains the float values of each question to find the \"difficulty\" of certain topics. For example, what is the average value of questions that contain the word `\"King\"`?\n",
    "   \n",
    "   Make sure to use the dataset that contains the float values as the dataset you use in your filtering function."
   ]
  },
  {
   "cell_type": "code",
   "execution_count": 211,
   "metadata": {},
   "outputs": [
    {
     "name": "stdout",
     "output_type": "stream",
     "text": [
      "  words present?  average worth of questions with word 'King' or 'England'\n",
      "0             no                                                739.970214\n",
      "1            yes                                                817.647059\n"
     ]
    }
   ],
   "source": [
    "\n",
    "list_with_and_without_word = jeopardy_df.groupby(['words present?']).prize.mean().reset_index()\n",
    "list_with_and_without_word.rename(columns={\"prize\":\"average worth of questions with word 'King' or 'England'\"},inplace=True)\n",
    "print(list_with_and_without_word)"
   ]
  },
  {
   "cell_type": "markdown",
   "metadata": {},
   "source": [
    "5. Write a function that returns the count of unique answers to all of the questions in a dataset. For example, after filtering the entire dataset to only questions containing the word `\"King\"`, we could then find all of the unique answers to those questions. The answer \"Henry VIII\" appeared 55 times and was the most common answer."
   ]
  },
  {
   "cell_type": "code",
   "execution_count": 216,
   "metadata": {},
   "outputs": [
    {
     "name": "stdout",
     "output_type": "stream",
     "text": [
      "Number of unique answers to questions posed with selected word present\n",
      " 43\n",
      "LIST OF UNIQUE ANSWERS\n",
      " ['Ethelred' 'Henry V' '4' 'Richard the Lionhearted' 'Alfred'\n",
      " 'Oliver Cromwell' '1066' 'Aethelred the Unready' 'Harold II'\n",
      " 'Richard I (Richard the Lionhearted)' 'Edward VI' 'William the Conqueror'\n",
      " 'Henry IV' 'King Hussein' 'Richard III' 'Plantagenet' 'Charles I'\n",
      " 'Norway' 'Canute' 'Edward' 'George' 'George IV' 'Henry VII'\n",
      " 'Richard the Lionheart' 'Denmark' 'Georgia' 'IV' 'Richard I' 'James II'\n",
      " 'King Edward VIII' 'Richard Branson' 'Old King Cole' 'William III'\n",
      " 'James (I)' 'Henry VIII' 'Battle of Hastings (which Harold II lost)'\n",
      " 'William' 'Westminster Abbey' 'William II' 'George I' 'Wales'\n",
      " 'William of Orange roughy' 'Edward VII']\n"
     ]
    }
   ],
   "source": [
    "#print(df_questions_withwords.head())\n",
    "count_unique_answers_to_questions_with_selectedword = df_questions_withwords.ans.nunique()\n",
    "list_of_unique_answers = df_questions_withwords.ans.unique()\n",
    "print(\"Number of unique answers to questions posed with selected word present\\n\",count_unique_answers_to_questions_with_selectedword)\n",
    "print(\"LIST OF UNIQUE ANSWERS\\n\",list_of_unique_answers)"
   ]
  },
  {
   "cell_type": "markdown",
   "metadata": {},
   "source": [
    "6. Explore from here! This is an incredibly rich dataset, and there are so many interesting things to discover. There are a few columns that we haven't even started looking at yet. Here are some ideas on ways to continue working with this data:\n",
    "\n",
    " * Investigate the ways in which questions change over time by filtering by the date. How many questions from the 90s use the word `\"Computer\"` compared to questions from the 2000s?\n",
    " * Is there a connection between the round and the category? Are you more likely to find certain categories, like `\"Literature\"` in Single Jeopardy or Double Jeopardy?\n",
    " * Build a system to quiz yourself. Grab random questions, and use the <a href=\"https://docs.python.org/3/library/functions.html#input\">input</a> function to get a response from the user. Check to see if that response was right or wrong."
   ]
  },
  {
   "cell_type": "code",
   "execution_count": null,
   "metadata": {},
   "outputs": [],
   "source": []
  },
  {
   "cell_type": "markdown",
   "metadata": {},
   "source": [
    "## Solution"
   ]
  },
  {
   "cell_type": "markdown",
   "metadata": {},
   "source": [
    "7. Compare your program to our <a href=\"https://content.codecademy.com/PRO/independent-practice-projects/jeopardy/jeopardy_solution.zip\">sample solution code</a> - remember, that your program might look different from ours (and probably will) and that's okay!"
   ]
  },
  {
   "cell_type": "markdown",
   "metadata": {},
   "source": [
    "8. Great work! Visit <a href=\"https://discuss.codecademy.com/t/this-is-jeopardy-challenge-project-python-pandas/462365\">our forums</a> to compare your project to our sample solution code. You can also learn how to host your own solution on GitHub so you can share it with other learners! Your solution might look different from ours, and that's okay! There are multiple ways to solve these projects, and you'll learn more by seeing others' code."
   ]
  },
  {
   "cell_type": "code",
   "execution_count": null,
   "metadata": {},
   "outputs": [],
   "source": []
  }
 ],
 "metadata": {
  "kernelspec": {
   "display_name": "Python 3 (ipykernel)",
   "language": "python",
   "name": "python3"
  },
  "language_info": {
   "codemirror_mode": {
    "name": "ipython",
    "version": 3
   },
   "file_extension": ".py",
   "mimetype": "text/x-python",
   "name": "python",
   "nbconvert_exporter": "python",
   "pygments_lexer": "ipython3",
   "version": "3.10.8"
  }
 },
 "nbformat": 4,
 "nbformat_minor": 2
}
